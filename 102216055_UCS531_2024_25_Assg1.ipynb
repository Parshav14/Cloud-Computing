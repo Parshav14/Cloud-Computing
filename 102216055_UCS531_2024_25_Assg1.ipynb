{
  "nbformat": 4,
  "nbformat_minor": 0,
  "metadata": {
    "colab": {
      "provenance": []
    },
    "kernelspec": {
      "name": "python3",
      "display_name": "Python 3"
    },
    "language_info": {
      "name": "python"
    }
  },
  "cells": [
    {
      "cell_type": "code",
      "execution_count": 3,
      "metadata": {
        "colab": {
          "base_uri": "https://localhost:8080/"
        },
        "id": "04k-cSyG_MAT",
        "outputId": "70df7e8e-335d-42ac-c043-071f07123c2b"
      },
      "outputs": [
        {
          "output_type": "stream",
          "name": "stdout",
          "text": [
            "Data file 'random_matrix.csv' created successfully.\n"
          ]
        }
      ],
      "source": [
        "import numpy as np\n",
        "\n",
        "rows = 50\n",
        "columns = 50\n",
        "\n",
        "matrix = np.random.random((rows, columns))\n",
        "\n",
        "np.savetxt('random_matrix.csv', matrix, delimiter=',', fmt='%.6f')\n",
        "\n",
        "print(\"Data file 'random_matrix.csv' created successfully.\")"
      ]
    },
    {
      "cell_type": "code",
      "source": [
        "import numpy as np\n",
        "\n",
        "def assign_subsequent_rows(matrix):\n",
        "    matrix = np.array(matrix)\n",
        "    first_row = matrix[0, :]\n",
        "    matrix[1:, :] = first_row\n",
        "    return matrix\n",
        "\n",
        "if __name__ == \"__main__\":\n",
        "\n",
        "    matrix = np.loadtxt('random_matrix.csv', delimiter=',')\n",
        "\n",
        "    print(\"Original Matrix:\")\n",
        "    print(matrix)\n",
        "\n",
        "    modified_matrix = assign_subsequent_rows(matrix)\n",
        "\n",
        "    print(\"\\nModified Matrix:\")\n",
        "    print(modified_matrix)\n",
        "\n",
        "    np.savetxt('modified_matrix.csv', modified_matrix, delimiter=',', fmt='%.6f')\n",
        "    print(\"Modified matrix saved to 'modified_matrix.csv'.\")"
      ],
      "metadata": {
        "colab": {
          "base_uri": "https://localhost:8080/"
        },
        "id": "QtD-KvnzCdJ_",
        "outputId": "bc236b97-478d-4280-8416-b93863146ef6"
      },
      "execution_count": 4,
      "outputs": [
        {
          "output_type": "stream",
          "name": "stdout",
          "text": [
            "Original Matrix:\n",
            "[[0.96097  0.948104 0.932531 ... 0.152217 0.767838 0.946898]\n",
            " [0.738494 0.375745 0.59497  ... 0.490792 0.109186 0.519919]\n",
            " [0.875968 0.705494 0.095486 ... 0.084718 0.366768 0.768559]\n",
            " ...\n",
            " [0.989029 0.655946 0.115229 ... 0.555604 0.088757 0.114828]\n",
            " [0.612488 0.716413 0.492956 ... 0.432032 0.109701 0.797019]\n",
            " [0.021598 0.16512  0.215963 ... 0.929439 0.313108 0.176335]]\n",
            "\n",
            "Modified Matrix:\n",
            "[[0.96097  0.948104 0.932531 ... 0.152217 0.767838 0.946898]\n",
            " [0.96097  0.948104 0.932531 ... 0.152217 0.767838 0.946898]\n",
            " [0.96097  0.948104 0.932531 ... 0.152217 0.767838 0.946898]\n",
            " ...\n",
            " [0.96097  0.948104 0.932531 ... 0.152217 0.767838 0.946898]\n",
            " [0.96097  0.948104 0.932531 ... 0.152217 0.767838 0.946898]\n",
            " [0.96097  0.948104 0.932531 ... 0.152217 0.767838 0.946898]]\n",
            "Modified matrix saved to 'modified_matrix.csv'.\n"
          ]
        }
      ]
    },
    {
      "cell_type": "code",
      "source": [
        "def group_elements(matrix, num_groups):\n",
        "  flatt = matrix.flatten()\n",
        "  sorted_flatt = np.sort(flatt)\n",
        "  group_elements = np.array_split(sorted_flatt, num_groups)\n",
        "  rows = len(group_elements)\n",
        "  columns = max(len(group) for group in group_elements)\n",
        "  grouped_matrix = np.full((rows, columns), np.nan)\n",
        "  for i, group in enumerate(group_elements):\n",
        "    grouped_matrix[i, :len(group)] = group\n",
        "  return grouped_matrix\n",
        "\n",
        "if __name__ == \"__main__\":\n",
        "  rows = 5\n",
        "  columns = 5\n",
        "  matrix = np.random.random((rows, columns))\n",
        "print(\"Original Matrix:\")\n",
        "print(matrix)\n",
        "num_groups = 3\n",
        "grouped_matrix = group_elements(matrix, num_groups)\n",
        "print(\"\\nGrouped Matrix:\")\n",
        "print(grouped_matrix)"
      ],
      "metadata": {
        "id": "GWRemWeEHNSy",
        "colab": {
          "base_uri": "https://localhost:8080/"
        },
        "outputId": "333a3d09-9e48-42e9-ddb7-4a13b42be86d"
      },
      "execution_count": 5,
      "outputs": [
        {
          "output_type": "stream",
          "name": "stdout",
          "text": [
            "Original Matrix:\n",
            "[[0.95797191 0.71165747 0.04870981 0.85658701 0.55570968]\n",
            " [0.06126071 0.83302384 0.30066237 0.31175887 0.15519379]\n",
            " [0.19144305 0.65036092 0.93780961 0.29057993 0.28970308]\n",
            " [0.17240423 0.30346032 0.64506225 0.19625595 0.76286344]\n",
            " [0.5689861  0.18972394 0.54943647 0.49226734 0.29450926]]\n",
            "\n",
            "Grouped Matrix:\n",
            "[[0.04870981 0.06126071 0.15519379 0.17240423 0.18972394 0.19144305\n",
            "  0.19625595 0.28970308 0.29057993]\n",
            " [0.29450926 0.30066237 0.30346032 0.31175887 0.49226734 0.54943647\n",
            "  0.55570968 0.5689861         nan]\n",
            " [0.64506225 0.65036092 0.71165747 0.76286344 0.83302384 0.85658701\n",
            "  0.93780961 0.95797191        nan]]\n"
          ]
        }
      ]
    },
    {
      "cell_type": "code",
      "source": [
        "def add_matrices(matrix1, matrix2):\n",
        "    return np.add(matrix1, matrix2)\n",
        "\n",
        "def subtract_matrices(matrix1, matrix2):\n",
        "    return np.subtract(matrix1, matrix2)\n",
        "\n",
        "if __name__ == \"__main__\":\n",
        "    matrix1 = np.array([[1, 2, 3], [4, 5, 6], [7, 8, 9]])\n",
        "    matrix2 = np.array([[9, 8, 7], [6, 5, 4], [3, 2, 1]])\n",
        "\n",
        "    print(\"Matrix 1:\")\n",
        "    print(matrix1)\n",
        "\n",
        "    print(\"\\nMatrix 2:\")\n",
        "    print(matrix2)\n",
        "\n",
        "    sum_matrix = add_matrices(matrix1, matrix2)\n",
        "    print(\"\\nSum of Matrix 1 and Matrix 2:\")\n",
        "    print(sum_matrix)\n",
        "\n",
        "    difference_matrix = subtract_matrices(matrix1, matrix2)\n",
        "    print(\"\\nDifference of Matrix 1 and Matrix 2:\")\n",
        "    print(difference_matrix)"
      ],
      "metadata": {
        "colab": {
          "base_uri": "https://localhost:8080/"
        },
        "id": "4pwx7xyq-hdv",
        "outputId": "757f9f61-3183-44a8-9fdf-04afc1940d5d"
      },
      "execution_count": 6,
      "outputs": [
        {
          "output_type": "stream",
          "name": "stdout",
          "text": [
            "Matrix 1:\n",
            "[[1 2 3]\n",
            " [4 5 6]\n",
            " [7 8 9]]\n",
            "\n",
            "Matrix 2:\n",
            "[[9 8 7]\n",
            " [6 5 4]\n",
            " [3 2 1]]\n",
            "\n",
            "Sum of Matrix 1 and Matrix 2:\n",
            "[[10 10 10]\n",
            " [10 10 10]\n",
            " [10 10 10]]\n",
            "\n",
            "Difference of Matrix 1 and Matrix 2:\n",
            "[[-8 -6 -4]\n",
            " [-2  0  2]\n",
            " [ 4  6  8]]\n"
          ]
        }
      ]
    },
    {
      "cell_type": "code",
      "source": [
        "def create_even_odd_matrix(n):\n",
        "    matrix = np.zeros((n, n), dtype=int)\n",
        "\n",
        "    even = 0\n",
        "    odd = 1\n",
        "\n",
        "    for i in range(n):\n",
        "        for j in range(n):\n",
        "            if (i + j) % 2 == 0:\n",
        "                matrix[i, j] = even\n",
        "                even += 2\n",
        "            else:\n",
        "                matrix[i, j] = odd\n",
        "                odd += 2\n",
        "\n",
        "    return matrix\n",
        "\n",
        "if __name__ == \"__main__\":\n",
        "    n = int(input(\"Enter the size of the matrix (n): \"))\n",
        "    matrix = create_even_odd_matrix(n)\n",
        "    print(\"Generated Matrix:\")\n",
        "    print(matrix)"
      ],
      "metadata": {
        "colab": {
          "base_uri": "https://localhost:8080/"
        },
        "id": "G9gUdC-K_A1o",
        "outputId": "b917789f-6876-4f46-c2aa-9dbe254b37cf"
      },
      "execution_count": 7,
      "outputs": [
        {
          "output_type": "stream",
          "name": "stdout",
          "text": [
            "Enter the size of the matrix (n): 5\n",
            "Generated Matrix:\n",
            "[[ 0  1  2  3  4]\n",
            " [ 5  6  7  8  9]\n",
            " [10 11 12 13 14]\n",
            " [15 16 17 18 19]\n",
            " [20 21 22 23 24]]\n"
          ]
        }
      ]
    },
    {
      "cell_type": "code",
      "source": [
        "def row_wise_sum(tuple_matrix):\n",
        "    row_sums = []\n",
        "\n",
        "    for row in tuple_matrix:\n",
        "        row_sum = sum(row)\n",
        "        row_sums.append(row_sum)\n",
        "\n",
        "    return row_sums\n",
        "\n",
        "if __name__ == \"__main__\":\n",
        "    tuple_matrix = (\n",
        "        (1, 2, 3),\n",
        "        (4, 5, 6),\n",
        "        (7, 8, 9),\n",
        "        (10, 11, 12)\n",
        "    )\n",
        "\n",
        "    print(\"Original Tuple Matrix:\")\n",
        "    for row in tuple_matrix:\n",
        "        print(row)\n",
        "\n",
        "    row_sums = row_wise_sum(tuple_matrix)\n",
        "\n",
        "    print(\"\\nRow-wise Sums:\")\n",
        "    for i, row_sum in enumerate(row_sums):\n",
        "        print(f\"Row {i+1}: {row_sum}\")"
      ],
      "metadata": {
        "colab": {
          "base_uri": "https://localhost:8080/"
        },
        "id": "YHYkwrow_dgO",
        "outputId": "7e7a7d1d-f382-425f-ea80-3d03c8355e2d"
      },
      "execution_count": 11,
      "outputs": [
        {
          "output_type": "stream",
          "name": "stdout",
          "text": [
            "Original Tuple Matrix:\n",
            "(1, 2, 3)\n",
            "(4, 5, 6)\n",
            "(7, 8, 9)\n",
            "(10, 11, 12)\n",
            "\n",
            "Row-wise Sums:\n",
            "Row 1: 6\n",
            "Row 2: 15\n",
            "Row 3: 24\n",
            "Row 4: 33\n"
          ]
        }
      ]
    }
  ]
}