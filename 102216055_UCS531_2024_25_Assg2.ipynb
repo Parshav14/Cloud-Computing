{
  "nbformat": 4,
  "nbformat_minor": 0,
  "metadata": {
    "colab": {
      "provenance": []
    },
    "kernelspec": {
      "name": "python3",
      "display_name": "Python 3"
    },
    "language_info": {
      "name": "python"
    }
  },
  "cells": [
    {
      "cell_type": "code",
      "execution_count": null,
      "metadata": {
        "colab": {
          "base_uri": "https://localhost:8080/"
        },
        "id": "wcS3p6FQDv3-",
        "outputId": "a6ef72bf-f619-4eee-fbb5-166d598c5892"
      },
      "outputs": [
        {
          "output_type": "stream",
          "name": "stdout",
          "text": [
            "Task 1 - Iteration 1\n",
            "\n",
            "Task 2 - Iteration 1\n",
            "\n",
            "Task 1 - Iteration 2\n",
            "\n",
            "Task 2 - Iteration 2\n",
            "\n",
            "Task 1 - Iteration 3\n",
            "\n",
            "Task 2 - Iteration 3\n",
            "\n",
            "Task 1 - Iteration 4\n",
            "\n",
            "Task 2 - Iteration 4\n",
            "\n",
            "Task 1 - Iteration 5\n",
            "\n",
            "Task 2 - Iteration 5\n",
            "\n",
            "Both threads have finished execution.\n"
          ]
        }
      ],
      "source": [
        "import threading\n",
        "import time\n",
        "\n",
        "def task1():\n",
        "    for i in range(5):\n",
        "        print(f\"Task 1 - Iteration {i+1}\\n\")\n",
        "        time.sleep(1)\n",
        "\n",
        "def task2():\n",
        "    for i in range(5):\n",
        "        print(f\"Task 2 - Iteration {i+1}\\n\")\n",
        "        time.sleep(1)\n",
        "\n",
        "if __name__ == \"__main__\":\n",
        "    thread1 = threading.Thread(target=task1)\n",
        "    thread2 = threading.Thread(target=task2)\n",
        "\n",
        "    thread1.start()\n",
        "    thread2.start()\n",
        "\n",
        "    thread1.join()\n",
        "    thread2.join()\n",
        "\n",
        "    print(\"Both threads have finished execution.\")\n"
      ]
    },
    {
      "cell_type": "code",
      "source": [
        "import threading\n",
        "import time\n",
        "\n",
        "def print_numbers(thread_name):\n",
        "    for i in range(1, 11):\n",
        "        print(f\"{thread_name} - {i}\\n\")\n",
        "        time.sleep(1)\n",
        "\n",
        "if __name__ == \"__main__\":\n",
        "    thread1 = threading.Thread(target=print_numbers, args=(\"Thread 1\",))\n",
        "    thread2 = threading.Thread(target=print_numbers, args=(\"Thread 2\",))\n",
        "\n",
        "    thread1.start()\n",
        "    thread2.start()\n",
        "\n",
        "    thread1.join()\n",
        "    thread2.join()\n",
        "\n",
        "    print(\"Both threads have finished execution.\")"
      ],
      "metadata": {
        "colab": {
          "base_uri": "https://localhost:8080/"
        },
        "id": "5X9uqLu9EbyT",
        "outputId": "cfec5799-0706-427e-9ddc-1be755849f62"
      },
      "execution_count": null,
      "outputs": [
        {
          "output_type": "stream",
          "name": "stdout",
          "text": [
            "Thread 1 - 1\n",
            "\n",
            "Thread 2 - 1\n",
            "\n",
            "Thread 1 - 2\n",
            "Thread 2 - 2\n",
            "\n",
            "\n",
            "Thread 2 - 3\n",
            "Thread 1 - 3\n",
            "\n",
            "\n",
            "Thread 2 - 4\n",
            "\n",
            "Thread 1 - 4\n",
            "\n",
            "Thread 2 - 5\n",
            "\n",
            "Thread 1 - 5\n",
            "\n",
            "Thread 2 - 6\n",
            "\n",
            "Thread 1 - 6\n",
            "\n",
            "Thread 2 - 7\n",
            "\n",
            "Thread 1 - 7\n",
            "\n",
            "Thread 2 - 8\n",
            "\n",
            "Thread 1 - 8\n",
            "\n",
            "Thread 2 - 9\n",
            "Thread 1 - 9\n",
            "\n",
            "\n",
            "Thread 1 - 10\n",
            "\n",
            "Thread 2 - 10\n",
            "\n",
            "Both threads have finished execution.\n"
          ]
        }
      ]
    },
    {
      "cell_type": "code",
      "source": [
        "import threading\n",
        "import time\n",
        "\n",
        "def print_numbers(thread_name):\n",
        "    for i in range(1, 11):\n",
        "        print(f\"{thread_name} - {i}\\n\")\n",
        "        time.sleep(1)\n",
        "\n",
        "if __name__ == \"__main__\":\n",
        "    thread1 = threading.Thread(target=print_numbers, args=(\"Thread 1\",))\n",
        "    thread2 = threading.Thread(target=print_numbers, args=(\"Thread 2\",))\n",
        "\n",
        "    thread1.start()\n",
        "    thread2.start()\n",
        "\n",
        "    thread1.join()\n",
        "    thread2.join()\n",
        "\n",
        "    print(\"Both threads have finished execution.\")"
      ],
      "metadata": {
        "colab": {
          "base_uri": "https://localhost:8080/"
        },
        "id": "y4zY2ZeeFWKc",
        "outputId": "e9f9bc38-eecc-49cf-d863-f5368aaa06d9"
      },
      "execution_count": null,
      "outputs": [
        {
          "output_type": "stream",
          "name": "stdout",
          "text": [
            "Thread 1 - 1\n",
            "\n",
            "Thread 2 - 1\n",
            "\n",
            "Thread 1 - 2\n",
            "\n",
            "Thread 2 - 2\n",
            "\n",
            "Thread 1 - 3\n",
            "\n",
            "Thread 2 - 3\n",
            "\n",
            "Thread 1 - 4\n",
            "\n",
            "Thread 2 - 4\n",
            "\n",
            "Thread 1 - 5\n",
            "\n",
            "Thread 2 - 5\n",
            "\n",
            "Thread 1 - 6\n",
            "\n",
            "Thread 2 - 6\n",
            "\n",
            "Thread 1 - 7\n",
            "\n",
            "Thread 2 - 7\n",
            "\n",
            "Thread 1 - 8\n",
            "\n",
            "Thread 2 - 8\n",
            "\n",
            "Thread 1 - 9\n",
            "\n",
            "Thread 2 - 9\n",
            "\n",
            "Thread 1 - 10\n",
            "\n",
            "Thread 2 - 10\n",
            "\n",
            "Both threads have finished execution.\n"
          ]
        }
      ]
    },
    {
      "cell_type": "code",
      "source": [
        "import multiprocessing\n",
        "\n",
        "def square_sum(start, end):\n",
        "    \"\"\"Calculate the sum of squares for a range of numbers.\"\"\"\n",
        "    return sum(i * i for i in range(start, end + 1))\n",
        "\n",
        "def parallel_sum_of_squares(n):\n",
        "    \"\"\"Calculate the sum of squares of numbers from 1 to n using multiprocessing.\"\"\"\n",
        "    num_processes = multiprocessing.cpu_count()\n",
        "    chunk_size = n // num_processes\n",
        "    chunks = [(i * chunk_size + 1, (i + 1) * chunk_size) for i in range(num_processes)]\n",
        "    chunks[-1] = (chunks[-1][0], n)  # Ensure the last chunk covers up to n\n",
        "\n",
        "    with multiprocessing.Pool(processes=num_processes) as pool:\n",
        "        results = pool.starmap(square_sum, chunks)\n",
        "\n",
        "    return sum(results)\n",
        "\n",
        "if __name__ == \"__main__\":\n",
        "    n = 100\n",
        "    result = parallel_sum_of_squares(n)\n",
        "    print(f\"The sum of squares from 1 to {n} is: {result}\")"
      ],
      "metadata": {
        "colab": {
          "base_uri": "https://localhost:8080/"
        },
        "id": "-2WrWZFp79pE",
        "outputId": "dce4b11d-6516-4c1c-ee7b-3d516ab49d26"
      },
      "execution_count": 1,
      "outputs": [
        {
          "output_type": "stream",
          "name": "stdout",
          "text": [
            "The sum of squares from 1 to 100 is: 338350\n"
          ]
        }
      ]
    },
    {
      "cell_type": "code",
      "source": [
        "def parallel_sum_of_squares(n, num_processes=4):\n",
        "    \"\"\"Calculate the sum of squares of numbers from 1 to n using a specified number of processes.\"\"\"\n",
        "    chunk_size = n // num_processes\n",
        "    chunks = [(i * chunk_size + 1, (i + 1) * chunk_size) for i in range(num_processes)]\n",
        "    chunks[-1] = (chunks[-1][0], n)  # Ensure the last chunk covers up to n\n",
        "\n",
        "    with multiprocessing.Pool(processes=num_processes) as pool:\n",
        "        results = pool.starmap(square_sum, chunks)\n",
        "\n",
        "    return sum(results)\n",
        "\n",
        "if __name__ == \"__main__\":\n",
        "    n = 100\n",
        "    num_processes = 4  # We are specifying four processes explicitly\n",
        "    result = parallel_sum_of_squares(n, num_processes)\n",
        "    print(f\"The sum of squares from 1 to {n} using {num_processes} processes is: {result}\")"
      ],
      "metadata": {
        "colab": {
          "base_uri": "https://localhost:8080/"
        },
        "id": "el2zI4SJ8qb6",
        "outputId": "a0043180-8838-4e95-89c3-997ec8ac6c8b"
      },
      "execution_count": 2,
      "outputs": [
        {
          "output_type": "stream",
          "name": "stdout",
          "text": [
            "The sum of squares from 1 to 100 using 4 processes is: 338350\n"
          ]
        }
      ]
    },
    {
      "cell_type": "code",
      "source": [
        "def parallel_sum_of_squares(n, num_processes=4):\n",
        "    \"\"\"Calculate the sum of squares from 1 to n using a specified number of processes.\"\"\"\n",
        "    # Calculate the size of each chunk\n",
        "    chunk_size = n // num_processes\n",
        "    # Create chunks of the range to be processed by each process\n",
        "    chunks = [(i * chunk_size + 1, (i + 1) * chunk_size) for i in range(num_processes)]\n",
        "    chunks[-1] = (chunks[-1][0], n)  # Ensure the last chunk covers up to n\n",
        "\n",
        "    with multiprocessing.Pool(processes=num_processes) as pool:\n",
        "        results = pool.starmap(square_sum, chunks)\n",
        "\n",
        "    # Combine the results from all processes to get the final sum\n",
        "    final_sum = sum(results)\n",
        "    return final_sum\n",
        "\n",
        "if __name__ == \"__main__\":\n",
        "    n = 100\n",
        "    num_processes = 4  # We are specifying four processes explicitly\n",
        "    result = parallel_sum_of_squares(n, num_processes)\n",
        "    print(f\"The sum of squares from 1 to {n} using {num_processes} processes is: {result}\")"
      ],
      "metadata": {
        "colab": {
          "base_uri": "https://localhost:8080/"
        },
        "id": "U17ZJQU7_AZw",
        "outputId": "bfc24801-6e1c-41b1-b727-ca87b1c5cfcb"
      },
      "execution_count": 3,
      "outputs": [
        {
          "output_type": "stream",
          "name": "stdout",
          "text": [
            "The sum of squares from 1 to 100 using 4 processes is: 338350\n"
          ]
        }
      ]
    },
    {
      "cell_type": "code",
      "source": [
        "pip install dask"
      ],
      "metadata": {
        "colab": {
          "base_uri": "https://localhost:8080/"
        },
        "id": "3ppINmeK_qok",
        "outputId": "c27d41b2-1e1f-4c5f-e3a8-f76f383c7829"
      },
      "execution_count": 4,
      "outputs": [
        {
          "output_type": "stream",
          "name": "stdout",
          "text": [
            "Requirement already satisfied: dask in /usr/local/lib/python3.10/dist-packages (2024.7.1)\n",
            "Requirement already satisfied: click>=8.1 in /usr/local/lib/python3.10/dist-packages (from dask) (8.1.7)\n",
            "Requirement already satisfied: cloudpickle>=1.5.0 in /usr/local/lib/python3.10/dist-packages (from dask) (2.2.1)\n",
            "Requirement already satisfied: fsspec>=2021.09.0 in /usr/local/lib/python3.10/dist-packages (from dask) (2024.6.1)\n",
            "Requirement already satisfied: packaging>=20.0 in /usr/local/lib/python3.10/dist-packages (from dask) (24.1)\n",
            "Requirement already satisfied: partd>=1.4.0 in /usr/local/lib/python3.10/dist-packages (from dask) (1.4.2)\n",
            "Requirement already satisfied: pyyaml>=5.3.1 in /usr/local/lib/python3.10/dist-packages (from dask) (6.0.2)\n",
            "Requirement already satisfied: toolz>=0.10.0 in /usr/local/lib/python3.10/dist-packages (from dask) (0.12.1)\n",
            "Requirement already satisfied: importlib-metadata>=4.13.0 in /usr/local/lib/python3.10/dist-packages (from dask) (8.2.0)\n",
            "Requirement already satisfied: zipp>=0.5 in /usr/local/lib/python3.10/dist-packages (from importlib-metadata>=4.13.0->dask) (3.20.0)\n",
            "Requirement already satisfied: locket in /usr/local/lib/python3.10/dist-packages (from partd>=1.4.0->dask) (1.0.0)\n"
          ]
        }
      ]
    },
    {
      "cell_type": "code",
      "source": [
        "import dask\n",
        "from dask import delayed\n",
        "from dask.distributed import Client\n",
        "\n",
        "def square(x):\n",
        "    \"\"\"Return the square of a number.\"\"\"\n",
        "    return x * x\n",
        "\n",
        "def sum_of_squares(n):\n",
        "    \"\"\"Calculate the sum of squares from 1 to n using Dask.\"\"\"\n",
        "    results = []\n",
        "    for i in range(1, n + 1):\n",
        "        # Wrap the square function in a delayed call\n",
        "        result = delayed(square)(i)\n",
        "        results.append(result)\n",
        "\n",
        "    # Sum up the delayed results\n",
        "    total = dask.delayed(sum)(results)\n",
        "    return total\n",
        "\n",
        "if __name__ == \"__main__\":\n",
        "    # Optionally, start a Dask distributed client\n",
        "    client = Client()  # Start a local Dask cluster\n",
        "\n",
        "    n = 100\n",
        "    # Compute the sum of squares\n",
        "    total = sum_of_squares(n)\n",
        "    # Execute the computation graph\n",
        "    result = total.compute()\n",
        "\n",
        "    print(f\"The sum of squares from 1 to {n} using Dask is: {result}\")\n",
        "\n",
        "    # Shutdown the Dask client\n",
        "    client.close()"
      ],
      "metadata": {
        "colab": {
          "base_uri": "https://localhost:8080/"
        },
        "id": "ce-Fjfve_rDc",
        "outputId": "ee93224a-caf9-4a0f-8443-d13602419b26"
      },
      "execution_count": 5,
      "outputs": [
        {
          "output_type": "stream",
          "name": "stderr",
          "text": [
            "INFO:distributed.http.proxy:To route to workers diagnostics web server please install jupyter-server-proxy: python -m pip install jupyter-server-proxy\n",
            "INFO:distributed.scheduler:State start\n",
            "INFO:distributed.scheduler:  Scheduler at:     tcp://127.0.0.1:34103\n",
            "INFO:distributed.scheduler:  dashboard at:  http://127.0.0.1:8787/status\n",
            "INFO:distributed.scheduler:Registering Worker plugin shuffle\n",
            "INFO:distributed.nanny:        Start Nanny at: 'tcp://127.0.0.1:40587'\n",
            "INFO:distributed.nanny:        Start Nanny at: 'tcp://127.0.0.1:40451'\n",
            "INFO:distributed.scheduler:Register worker <WorkerState 'tcp://127.0.0.1:37155', name: 1, status: init, memory: 0, processing: 0>\n",
            "INFO:distributed.scheduler:Starting worker compute stream, tcp://127.0.0.1:37155\n",
            "INFO:distributed.core:Starting established connection to tcp://127.0.0.1:49250\n",
            "INFO:distributed.scheduler:Register worker <WorkerState 'tcp://127.0.0.1:39359', name: 0, status: init, memory: 0, processing: 0>\n",
            "INFO:distributed.scheduler:Starting worker compute stream, tcp://127.0.0.1:39359\n",
            "INFO:distributed.core:Starting established connection to tcp://127.0.0.1:49258\n",
            "INFO:distributed.scheduler:Receive client connection: Client-683c1c7b-6031-11ef-81e3-0242ac1c000c\n",
            "INFO:distributed.core:Starting established connection to tcp://127.0.0.1:46144\n",
            "INFO:distributed.scheduler:Remove client Client-683c1c7b-6031-11ef-81e3-0242ac1c000c\n",
            "INFO:distributed.core:Received 'close-stream' from tcp://127.0.0.1:46144; closing.\n",
            "INFO:distributed.scheduler:Remove client Client-683c1c7b-6031-11ef-81e3-0242ac1c000c\n",
            "INFO:distributed.scheduler:Close client connection: Client-683c1c7b-6031-11ef-81e3-0242ac1c000c\n",
            "INFO:distributed.scheduler:Retire worker addresses (0, 1)\n",
            "INFO:distributed.nanny:Closing Nanny at 'tcp://127.0.0.1:40587'. Reason: nanny-close\n",
            "INFO:distributed.nanny:Nanny asking worker to close. Reason: nanny-close\n",
            "INFO:distributed.nanny:Closing Nanny at 'tcp://127.0.0.1:40451'. Reason: nanny-close\n",
            "INFO:distributed.nanny:Nanny asking worker to close. Reason: nanny-close\n",
            "INFO:distributed.core:Received 'close-stream' from tcp://127.0.0.1:49258; closing.\n",
            "INFO:distributed.scheduler:Remove worker <WorkerState 'tcp://127.0.0.1:39359', name: 0, status: closing, memory: 0, processing: 0> (stimulus_id='handle-worker-cleanup-1724295084.5121138')\n",
            "INFO:distributed.core:Received 'close-stream' from tcp://127.0.0.1:49250; closing.\n",
            "INFO:distributed.scheduler:Remove worker <WorkerState 'tcp://127.0.0.1:37155', name: 1, status: closing, memory: 0, processing: 0> (stimulus_id='handle-worker-cleanup-1724295084.5372612')\n",
            "INFO:distributed.scheduler:Lost all workers\n",
            "INFO:distributed.batched:Batched Comm Closed <TCP (closed) Scheduler connection to worker local=tcp://127.0.0.1:34103 remote=tcp://127.0.0.1:49250>\n",
            "Traceback (most recent call last):\n",
            "  File \"/usr/local/lib/python3.10/dist-packages/distributed/batched.py\", line 115, in _background_send\n",
            "    nbytes = yield coro\n",
            "  File \"/usr/local/lib/python3.10/dist-packages/tornado/gen.py\", line 767, in run\n",
            "    value = future.result()\n",
            "  File \"/usr/local/lib/python3.10/dist-packages/distributed/comm/tcp.py\", line 262, in write\n",
            "    raise CommClosedError()\n",
            "distributed.comm.core.CommClosedError\n"
          ]
        },
        {
          "output_type": "stream",
          "name": "stdout",
          "text": [
            "The sum of squares from 1 to 100 using Dask is: 338350\n"
          ]
        },
        {
          "output_type": "stream",
          "name": "stderr",
          "text": [
            "INFO:distributed.scheduler:Scheduler closing due to unknown reason...\n",
            "INFO:distributed.scheduler:Scheduler closing all comms\n"
          ]
        }
      ]
    }
  ]
}